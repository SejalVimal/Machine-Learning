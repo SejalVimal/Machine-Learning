{
 "cells": [
  {
   "cell_type": "code",
   "execution_count": 3,
   "id": "0998f7ef",
   "metadata": {},
   "outputs": [
    {
     "name": "stdout",
     "output_type": "stream",
     "text": [
      "Collecting SPARQLWRAPPER\n",
      "  Downloading SPARQLWrapper-2.0.0-py3-none-any.whl (28 kB)\n",
      "Collecting rdflib>=6.1.1 (from SPARQLWRAPPER)\n",
      "  Obtaining dependency information for rdflib>=6.1.1 from https://files.pythonhosted.org/packages/d4/b0/7b7d8b5b0d01f1a0b12cc2e5038a868ef3a15825731b8a0d776cf47566c0/rdflib-7.0.0-py3-none-any.whl.metadata\n",
      "  Downloading rdflib-7.0.0-py3-none-any.whl.metadata (11 kB)\n",
      "Collecting isodate<0.7.0,>=0.6.0 (from rdflib>=6.1.1->SPARQLWRAPPER)\n",
      "  Downloading isodate-0.6.1-py2.py3-none-any.whl (41 kB)\n",
      "     ---------------------------------------- 0.0/41.7 kB ? eta -:--:--\n",
      "     ---------------------------------------- 41.7/41.7 kB ? eta 0:00:00\n",
      "Requirement already satisfied: pyparsing<4,>=2.1.0 in c:\\users\\vimal thampi\\anaconda3\\lib\\site-packages (from rdflib>=6.1.1->SPARQLWRAPPER) (3.0.9)\n",
      "Requirement already satisfied: six in c:\\users\\vimal thampi\\anaconda3\\lib\\site-packages (from isodate<0.7.0,>=0.6.0->rdflib>=6.1.1->SPARQLWRAPPER) (1.16.0)\n",
      "Downloading rdflib-7.0.0-py3-none-any.whl (531 kB)\n",
      "   ---------------------------------------- 0.0/531.9 kB ? eta -:--:--\n",
      "   --------------------------------------- 531.9/531.9 kB 16.3 MB/s eta 0:00:00\n",
      "Installing collected packages: isodate, rdflib, SPARQLWRAPPER\n",
      "Successfully installed SPARQLWRAPPER-2.0.0 isodate-0.6.1 rdflib-7.0.0\n",
      "Note: you may need to restart the kernel to use updated packages.\n"
     ]
    }
   ],
   "source": [
    "pip install SPARQLWRAPPER"
   ]
  },
  {
   "cell_type": "code",
   "execution_count": null,
   "id": "32388b19",
   "metadata": {},
   "outputs": [],
   "source": []
  }
 ],
 "metadata": {
  "kernelspec": {
   "display_name": "Python 3 (ipykernel)",
   "language": "python",
   "name": "python3"
  },
  "language_info": {
   "codemirror_mode": {
    "name": "ipython",
    "version": 3
   },
   "file_extension": ".py",
   "mimetype": "text/x-python",
   "name": "python",
   "nbconvert_exporter": "python",
   "pygments_lexer": "ipython3",
   "version": "3.11.4"
  }
 },
 "nbformat": 4,
 "nbformat_minor": 5
}
